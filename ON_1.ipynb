{
  "nbformat": 4,
  "nbformat_minor": 0,
  "metadata": {
    "colab": {
      "name": "ON_1.ipynb",
      "provenance": [],
      "collapsed_sections": [],
      "authorship_tag": "ABX9TyMJNmMH0b3jsXIkkpPrEvhk",
      "include_colab_link": true
    },
    "kernelspec": {
      "name": "python3",
      "display_name": "Python 3"
    },
    "language_info": {
      "name": "python"
    }
  },
  "cells": [
    {
      "cell_type": "markdown",
      "metadata": {
        "id": "view-in-github",
        "colab_type": "text"
      },
      "source": [
        "<a href=\"https://colab.research.google.com/github/krykaczewski/pipline/blob/master/ON_1.ipynb\" target=\"_parent\"><img src=\"https://colab.research.google.com/assets/colab-badge.svg\" alt=\"Open In Colab\"/></a>"
      ]
    },
    {
      "cell_type": "code",
      "execution_count": 3,
      "metadata": {
        "colab": {
          "base_uri": "https://localhost:8080/"
        },
        "id": "IQc_REnvG2hR",
        "outputId": "53a4fbae-9048-4cf0-da9b-00e32910a357"
      },
      "outputs": [
        {
          "output_type": "execute_result",
          "data": {
            "text/plain": [
              "4"
            ]
          },
          "metadata": {},
          "execution_count": 3
        }
      ],
      "source": [
        "2+2"
      ]
    },
    {
      "cell_type": "code",
      "source": [
        "2**3"
      ],
      "metadata": {
        "colab": {
          "base_uri": "https://localhost:8080/"
        },
        "id": "m7GmioMPG4xy",
        "outputId": "60242bc2-98df-4c4a-d33a-88f0e35f01eb"
      },
      "execution_count": 4,
      "outputs": [
        {
          "output_type": "execute_result",
          "data": {
            "text/plain": [
              "8"
            ]
          },
          "metadata": {},
          "execution_count": 4
        }
      ]
    },
    {
      "cell_type": "code",
      "source": [
        "8 > 4"
      ],
      "metadata": {
        "colab": {
          "base_uri": "https://localhost:8080/"
        },
        "id": "aofYiLGKHGf2",
        "outputId": "217ae5f5-304e-4d49-cf15-dddf65169464"
      },
      "execution_count": 5,
      "outputs": [
        {
          "output_type": "execute_result",
          "data": {
            "text/plain": [
              "True"
            ]
          },
          "metadata": {},
          "execution_count": 5
        }
      ]
    },
    {
      "cell_type": "code",
      "source": [
        "import math"
      ],
      "metadata": {
        "id": "qridWfwQHJtP"
      },
      "execution_count": 6,
      "outputs": []
    },
    {
      "cell_type": "code",
      "source": [
        "math.log(10)"
      ],
      "metadata": {
        "colab": {
          "base_uri": "https://localhost:8080/"
        },
        "id": "u0v41aPiHNhM",
        "outputId": "b88a8d85-0dcd-45d9-a73f-40b0ab22067f"
      },
      "execution_count": 7,
      "outputs": [
        {
          "output_type": "execute_result",
          "data": {
            "text/plain": [
              "2.302585092994046"
            ]
          },
          "metadata": {},
          "execution_count": 7
        }
      ]
    },
    {
      "cell_type": "code",
      "source": [
        "math.fabs(-10)"
      ],
      "metadata": {
        "colab": {
          "base_uri": "https://localhost:8080/"
        },
        "id": "BKqjZOlMHRSc",
        "outputId": "5a7052a8-9e36-4bbc-db1d-db6c145521e7"
      },
      "execution_count": 12,
      "outputs": [
        {
          "output_type": "execute_result",
          "data": {
            "text/plain": [
              "10.0"
            ]
          },
          "metadata": {},
          "execution_count": 12
        }
      ]
    },
    {
      "cell_type": "code",
      "source": [
        "# Tu jest komentarz\n",
        "\"\"\"A\n",
        "B\n",
        "S\"\"\"\n",
        "if (4 > 3):\n",
        "  print(\"4 jest wieksze niz 3\")\n",
        "else:\n",
        "  print(\"3 jest wieksze niz 4\")"
      ],
      "metadata": {
        "colab": {
          "base_uri": "https://localhost:8080/"
        },
        "id": "gjm49iAnHVE8",
        "outputId": "ae27f89c-1665-4e79-82d7-fd78453e3b5b"
      },
      "execution_count": 16,
      "outputs": [
        {
          "output_type": "stream",
          "name": "stdout",
          "text": [
            "4 jest wieksze niz 3\n"
          ]
        }
      ]
    },
    {
      "cell_type": "code",
      "source": [
        "for i in range(10):\n",
        "  print(i**2)"
      ],
      "metadata": {
        "colab": {
          "base_uri": "https://localhost:8080/"
        },
        "id": "GhLQFs2hHy-A",
        "outputId": "4a47c3f2-9ff3-4da1-fba8-2509cf388681"
      },
      "execution_count": 14,
      "outputs": [
        {
          "output_type": "stream",
          "name": "stdout",
          "text": [
            "0\n",
            "1\n",
            "4\n",
            "9\n",
            "16\n",
            "25\n",
            "36\n",
            "49\n",
            "64\n",
            "81\n"
          ]
        }
      ]
    },
    {
      "cell_type": "markdown",
      "source": [
        "# Tytuł\n",
        "\n",
        "## Podtytuł\n",
        "\n",
        "1. Lista A\n",
        "2. Lista B\n",
        "\n",
        "* A\n",
        "* B\n",
        "\n",
        "$$\n",
        "E = mc^2\n",
        "$$"
      ],
      "metadata": {
        "id": "dVhgy5dJH6tQ"
      }
    },
    {
      "cell_type": "code",
      "source": [
        "n = -1236949"
      ],
      "metadata": {
        "id": "Iym-oypSH3r3"
      },
      "execution_count": 17,
      "outputs": []
    },
    {
      "cell_type": "code",
      "source": [
        "def num_digits(a):\n",
        "  assert type(a) == int\n",
        "  return len(str(abs(a)))"
      ],
      "metadata": {
        "id": "HAQfTv1hId5X"
      },
      "execution_count": 24,
      "outputs": []
    },
    {
      "cell_type": "code",
      "source": [
        "num_digits(10)"
      ],
      "metadata": {
        "colab": {
          "base_uri": "https://localhost:8080/"
        },
        "id": "slcsiF94IyzV",
        "outputId": "d4f897a4-c354-4512-efa6-498d122f5060"
      },
      "execution_count": 27,
      "outputs": [
        {
          "output_type": "execute_result",
          "data": {
            "text/plain": [
              "2"
            ]
          },
          "metadata": {},
          "execution_count": 27
        }
      ]
    },
    {
      "cell_type": "code",
      "source": [
        "int(math.log(abs(n), 10)) + 1"
      ],
      "metadata": {
        "colab": {
          "base_uri": "https://localhost:8080/"
        },
        "id": "A_9K3px7I0GF",
        "outputId": "0fe25224-315f-4f2c-89d6-18f92009b7c0"
      },
      "execution_count": 23,
      "outputs": [
        {
          "output_type": "execute_result",
          "data": {
            "text/plain": [
              "7"
            ]
          },
          "metadata": {},
          "execution_count": 23
        }
      ]
    },
    {
      "cell_type": "code",
      "source": [
        "la = \"Good Morning\"\n",
        "lb = \"gOOd mORNinG\""
      ],
      "metadata": {
        "id": "ooX6-i0kI-z7"
      },
      "execution_count": 28,
      "outputs": []
    },
    {
      "cell_type": "code",
      "source": [
        "lb.lower()"
      ],
      "metadata": {
        "colab": {
          "base_uri": "https://localhost:8080/",
          "height": 35
        },
        "id": "BwxELoWkKSPY",
        "outputId": "807d87fe-9599-49ae-e2bc-a8eba12983c6"
      },
      "execution_count": 36,
      "outputs": [
        {
          "output_type": "execute_result",
          "data": {
            "application/vnd.google.colaboratory.intrinsic+json": {
              "type": "string"
            },
            "text/plain": [
              "'good morning'"
            ]
          },
          "metadata": {},
          "execution_count": 36
        }
      ]
    },
    {
      "cell_type": "code",
      "source": [
        "def str_comapre(x, y):\n",
        "  return x.lower() == y.lower()"
      ],
      "metadata": {
        "id": "yLuQfFscJCmR"
      },
      "execution_count": 31,
      "outputs": []
    },
    {
      "cell_type": "code",
      "source": [
        "str_comapre(la, lb)"
      ],
      "metadata": {
        "colab": {
          "base_uri": "https://localhost:8080/"
        },
        "id": "9nHC4cZUKIcd",
        "outputId": "539d6c2b-7f1f-456f-e3f1-110bf850fd05"
      },
      "execution_count": 34,
      "outputs": [
        {
          "output_type": "execute_result",
          "data": {
            "text/plain": [
              "True"
            ]
          },
          "metadata": {},
          "execution_count": 34
        }
      ]
    },
    {
      "cell_type": "code",
      "source": [
        "# Zad. 1. Napisać funkcję, która wylicza n-tą liczbę Fibonacciego."
      ],
      "metadata": {
        "id": "WC-ebuA3KKED"
      },
      "execution_count": null,
      "outputs": []
    },
    {
      "cell_type": "code",
      "source": [
        "def Fib(n):\n",
        "  if n == 0: return 0\n",
        "  if n == 1: return 1\n",
        "  if n > 1: return Fib(n-1) + Fib(n-2)"
      ],
      "metadata": {
        "id": "Vd9vJTCRLxiL"
      },
      "execution_count": 37,
      "outputs": []
    },
    {
      "cell_type": "code",
      "source": [
        "[ Fib(f) for f in range(10) ]"
      ],
      "metadata": {
        "colab": {
          "base_uri": "https://localhost:8080/"
        },
        "id": "amQguCT-MAFQ",
        "outputId": "82d6ce5b-4749-4cf3-ae68-52bfaa28975c"
      },
      "execution_count": 39,
      "outputs": [
        {
          "output_type": "execute_result",
          "data": {
            "text/plain": [
              "[1, 1, 2, 3, 5, 8, 13, 21, 34, 55]"
            ]
          },
          "metadata": {},
          "execution_count": 39
        }
      ]
    },
    {
      "cell_type": "code",
      "source": [
        ""
      ],
      "metadata": {
        "id": "R_hTO0UqMCmG"
      },
      "execution_count": null,
      "outputs": []
    }
  ]
}